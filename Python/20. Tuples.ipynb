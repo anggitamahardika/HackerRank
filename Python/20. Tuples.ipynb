{
  "nbformat": 4,
  "nbformat_minor": 0,
  "metadata": {
    "colab": {
      "provenance": []
    },
    "kernelspec": {
      "name": "python3",
      "display_name": "Python 3"
    },
    "language_info": {
      "name": "python"
    }
  },
  "cells": [
    {
      "cell_type": "code",
      "execution_count": 1,
      "metadata": {
        "colab": {
          "base_uri": "https://localhost:8080/"
        },
        "id": "4UgHK4nWyxnh",
        "outputId": "040ca31d-1443-4d1e-ac6e-704506402a28"
      },
      "outputs": [
        {
          "output_type": "stream",
          "name": "stdout",
          "text": [
            "2\n",
            "1 2\n",
            "3713081631934410656\n"
          ]
        }
      ],
      "source": [
        "n = int(input())\n",
        "t = tuple(map(int, input().split()))\n",
        "    \n",
        "print(hash(t))"
      ]
    }
  ]
}