{
  "nbformat": 4,
  "nbformat_minor": 0,
  "metadata": {
    "colab": {
      "provenance": []
    },
    "kernelspec": {
      "name": "python3",
      "display_name": "Python 3"
    },
    "language_info": {
      "name": "python"
    }
  },
  "cells": [
    {
      "cell_type": "markdown",
      "source": [
        "Source Problem: [Lists](https://www.hackerrank.com/challenges/python-lists/problem?isFullScreen=true)"
      ],
      "metadata": {
        "id": "INo6G9bQyBbv"
      }
    },
    {
      "cell_type": "code",
      "execution_count": 1,
      "metadata": {
        "colab": {
          "base_uri": "https://localhost:8080/"
        },
        "id": "Y9sRVSZyx5aC",
        "outputId": "8b9a8f78-c476-481f-9149-d3b26359dbc4"
      },
      "outputs": [
        {
          "output_type": "stream",
          "name": "stdout",
          "text": [
            "12\n",
            "insert 0 5\n",
            "insert 1 10\n",
            "insert 0 6\n",
            "print\n",
            "[6, 5, 10]\n",
            "remove 6\n",
            "append 9\n",
            "append 1\n",
            "sort\n",
            "print\n",
            "[1, 5, 9, 10]\n",
            "pop\n",
            "reverse\n",
            "print\n",
            "[9, 5, 1]\n"
          ]
        }
      ],
      "source": [
        "if __name__ == '__main__':\n",
        "    N = int(input())\n",
        "    l =[]\n",
        "    for i in range(N):\n",
        "        a = input().split()\n",
        "        if a[0] == \"insert\":\n",
        "            l.insert(int(a[1]), int(a[2]))\n",
        "        elif a[0] == \"remove\":\n",
        "            l.remove(int(a[1]))\n",
        "        elif a[0] == \"append\":\n",
        "            l.append(int(a[1]))\n",
        "        elif a[0] == \"sort\":\n",
        "            l.sort()\n",
        "        elif a[0] == \"pop\":\n",
        "            l.pop()\n",
        "        elif a[0] == \"reverse\":\n",
        "            l.reverse()\n",
        "        else:\n",
        "            print(l)\n"
      ]
    }
  ]
}